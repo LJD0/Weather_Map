{
 "cells": [
  {
   "cell_type": "code",
   "execution_count": 1,
   "metadata": {},
   "outputs": [],
   "source": [
    "import requests"
   ]
  },
  {
   "cell_type": "code",
   "execution_count": 2,
   "metadata": {},
   "outputs": [],
   "source": [
    "from config import weather_api_key"
   ]
  },
  {
   "cell_type": "code",
   "execution_count": 3,
   "metadata": {},
   "outputs": [],
   "source": [
    "url = \"http://api.openweathermap.org/data/2.5/weather?units=Imperial&APPID=\" + weather_api_key"
   ]
  },
  {
   "cell_type": "code",
   "execution_count": null,
   "metadata": {},
   "outputs": [],
   "source": [
    "from datetime import datetime"
   ]
  },
  {
   "cell_type": "code",
   "execution_count": null,
   "metadata": {},
   "outputs": [
    {
     "data": {
      "text/plain": [
       "'10-11-2022 20:43:15'"
      ]
     },
     "execution_count": 57,
     "metadata": {},
     "output_type": "execute_result"
    }
   ],
   "source": [
    "# datetime.utcfromtimestamp(date).strftime('%m-%d-%Y %H:%M:%S')"
   ]
  },
  {
   "cell_type": "code",
   "execution_count": 6,
   "metadata": {},
   "outputs": [],
   "source": [
    "cities = [\"New York\",'Portland','San  Diego','Ellensburg','Seattle']"
   ]
  },
  {
   "cell_type": "code",
   "execution_count": 8,
   "metadata": {},
   "outputs": [
    {
     "name": "stdout",
     "output_type": "stream",
     "text": [
      "it is currently 63.3 degrees in New York\n",
      "it is currently 77.94 degrees in Portland\n",
      "KeyError received for San  Diego\n",
      "it is currently 75.02 degrees in Ellensburg\n",
      "it is currently 67.3 degrees in Seattle\n"
     ]
    }
   ],
   "source": [
    "for i,city in enumerate(cities):\n",
    "    try:\n",
    "        city_url = f\"{url}&q={city}\"\n",
    "        weather = requests.get(city_url).json()\n",
    "        temp = weather['main']['temp']\n",
    "       \n",
    "    except KeyError:\n",
    "        print(f'KeyError received for {city}')\n",
    "        continue\n",
    "    print(f\"it is currently {temp} degrees in {city}\")\n"
   ]
  },
  {
   "cell_type": "code",
   "execution_count": 9,
   "metadata": {},
   "outputs": [
    {
     "data": {
      "text/plain": [
       "{'coord': {'lon': -122.3321, 'lat': 47.6062},\n",
       " 'weather': [{'id': 721,\n",
       "   'main': 'Haze',\n",
       "   'description': 'haze',\n",
       "   'icon': '50d'}],\n",
       " 'base': 'stations',\n",
       " 'main': {'temp': 67.3,\n",
       "  'feels_like': 66.45,\n",
       "  'temp_min': 61.7,\n",
       "  'temp_max': 74.28,\n",
       "  'pressure': 1021,\n",
       "  'humidity': 58},\n",
       " 'visibility': 10000,\n",
       " 'wind': {'speed': 11.5, 'deg': 320},\n",
       " 'clouds': {'all': 0},\n",
       " 'dt': 1665615084,\n",
       " 'sys': {'type': 2,\n",
       "  'id': 2041694,\n",
       "  'country': 'US',\n",
       "  'sunrise': 1665584626,\n",
       "  'sunset': 1665624447},\n",
       " 'timezone': -25200,\n",
       " 'id': 5809844,\n",
       " 'name': 'Seattle',\n",
       " 'cod': 200}"
      ]
     },
     "execution_count": 9,
     "metadata": {},
     "output_type": "execute_result"
    }
   ],
   "source": [
    "weather"
   ]
  },
  {
   "cell_type": "code",
   "execution_count": null,
   "metadata": {},
   "outputs": [],
   "source": []
  }
 ],
 "metadata": {
  "kernelspec": {
   "display_name": "Python 3.10.4 64-bit",
   "language": "python",
   "name": "python3"
  },
  "language_info": {
   "codemirror_mode": {
    "name": "ipython",
    "version": 3
   },
   "file_extension": ".py",
   "mimetype": "text/x-python",
   "name": "python",
   "nbconvert_exporter": "python",
   "pygments_lexer": "ipython3",
   "version": "3.10.4"
  },
  "orig_nbformat": 4,
  "vscode": {
   "interpreter": {
    "hash": "aee8b7b246df8f9039afb4144a1f6fd8d2ca17a180786b69acc140d282b71a49"
   }
  }
 },
 "nbformat": 4,
 "nbformat_minor": 2
}
